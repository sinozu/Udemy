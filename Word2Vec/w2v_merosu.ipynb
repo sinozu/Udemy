{
 "cells": [
  {
   "cell_type": "code",
   "execution_count": 2,
   "metadata": {},
   "outputs": [],
   "source": [
    "from janome.tokenizer import Tokenizer\n",
    "from gensim.models import word2vec\n",
    "import re"
   ]
  },
  {
   "cell_type": "code",
   "execution_count": 4,
   "metadata": {},
   "outputs": [],
   "source": [
    "bin_data = open(\"hashire_merosu.txt\", \"rb\").read()\n",
    "text = bin_data.decode(\"shift_jis\")"
   ]
  },
  {
   "cell_type": "code",
   "execution_count": 6,
   "metadata": {},
   "outputs": [],
   "source": [
    "text = text.strip()"
   ]
  },
  {
   "cell_type": "code",
   "execution_count": 8,
   "metadata": {},
   "outputs": [],
   "source": [
    "# 形態素解析\n",
    "t = Tokenizer()\n",
    "results = []\n",
    "lines = text.split(\"\\r\\n\")"
   ]
  },
  {
   "cell_type": "code",
   "execution_count": 80,
   "metadata": {},
   "outputs": [],
   "source": [
    "for line in lines:\n",
    "    s = line\n",
    "    s = s.replace('|', '')\n",
    "    s = s.replace(\"。\", '')\n",
    "    s = s.replace(\"、\", '')\n",
    "    s = re.sub(r'《.+?》', '', s)\n",
    "    # 1行ずつ形態素解析をする\n",
    "    tokens = t.tokenize(s)\n",
    "    r = []\n",
    "    \"\"\"\n",
    "    tokenは以下\n",
    "    メロス\t名詞,一般,*,*,*,*,メロス,*,*\n",
    "    は\t助詞,係助詞,*,*,*,*,は,ハ,ワ\n",
    "    激怒\t名詞,サ変接続,*,*,*,*,激怒,ゲキド,ゲキド\n",
    "    し\t動詞,自立,*,*,サ変・スル,連用形,する,シ,シ\n",
    "    た\t助動詞,*,*,*,特殊・タ,基本形,た,タ,タ\n",
    "    \"\"\"\n",
    "    for token in tokens:\n",
    "        if token.base_form == \"*\":\n",
    "            w = token.surface\n",
    "        else:\n",
    "            w = token.base_form\n",
    "        # 名詞、一般　とかの部分\n",
    "        ps = token.part_of_speech\n",
    "        hinshi = ps.split(',')[0]\n",
    "        if hinshi in ['名詞', '形容詞', '動詞']:\n",
    "            r.append(w)\n",
    "    \n",
    "    rl = (\" \".join(r)).strip()\n",
    "    \n",
    "    results.append(rl)\n",
    "    #print(results)"
   ]
  },
  {
   "cell_type": "code",
   "execution_count": 81,
   "metadata": {},
   "outputs": [],
   "source": [
    "merosu_wakachi = 'merosu.wakachi'\n",
    "with open(merosu_wakachi, 'w', encoding = 'utf-8') as fp:\n",
    "    fp.write(\"\\n\".join(results))"
   ]
  },
  {
   "cell_type": "code",
   "execution_count": 82,
   "metadata": {},
   "outputs": [
    {
     "name": "stdout",
     "output_type": "stream",
     "text": [
      "Completed\n"
     ]
    }
   ],
   "source": [
    "# word2vec\n",
    "data = word2vec.LineSentence(merosu_wakachi)\n",
    "model = word2vec.Word2Vec(data, size = 200, window = 10, hs = 1, min_count = 2, sg = 1)\n",
    "model.save('merosu.model')\n",
    "print('Completed')"
   ]
  },
  {
   "cell_type": "code",
   "execution_count": 83,
   "metadata": {},
   "outputs": [
    {
     "name": "stderr",
     "output_type": "stream",
     "text": [
      "/Users/shinozu/.pyenv/versions/anaconda3-5.1.0/envs/morph/lib/python3.6/site-packages/ipykernel_launcher.py:1: DeprecationWarning: Call to deprecated `most_similar` (Method will be removed in 4.0.0, use self.wv.most_similar() instead).\n",
      "  \"\"\"Entry point for launching an IPython kernel.\n"
     ]
    },
    {
     "data": {
      "text/plain": [
       "[('。', 0.26307517290115356),\n",
       " ('むだ', 0.24472957849502563),\n",
       " ('腕', 0.24472452700138092),\n",
       " ('鳴り響く', 0.2219196856021881),\n",
       " ('察す', 0.221103698015213),\n",
       " ('決意', 0.2188938409090042),\n",
       " ('陽', 0.2181023806333542),\n",
       " ('夜', 0.21596121788024902),\n",
       " ('からだ', 0.2156846523284912),\n",
       " ('なる', 0.2132759988307953)]"
      ]
     },
     "execution_count": 83,
     "metadata": {},
     "output_type": "execute_result"
    }
   ],
   "source": [
    "model.most_similar(positive=[\"メロス\"])"
   ]
  },
  {
   "cell_type": "code",
   "execution_count": 84,
   "metadata": {},
   "outputs": [
    {
     "name": "stderr",
     "output_type": "stream",
     "text": [
      "/Users/shinozu/.pyenv/versions/anaconda3-5.1.0/envs/morph/lib/python3.6/site-packages/ipykernel_launcher.py:1: DeprecationWarning: Call to deprecated `most_similar` (Method will be removed in 4.0.0, use self.wv.most_similar() instead).\n",
      "  \"\"\"Entry point for launching an IPython kernel.\n"
     ]
    },
    {
     "data": {
      "text/plain": [
       "[('若い', 0.5064601898193359),\n",
       " ('フィロストラトス', 0.4374510645866394),\n",
       " ('やめる', 0.4162140190601349),\n",
       " ('恐ろしい', 0.4093668460845947),\n",
       " ('駄目', 0.3996657133102417),\n",
       " ('奸佞', 0.3971533179283142),\n",
       " ('助け', 0.39525845646858215),\n",
       " ('打ち破る', 0.3894016742706299),\n",
       " ('ふるさと', 0.36800920963287354),\n",
       " ('叫ぶ', 0.3674015998840332)]"
      ]
     },
     "execution_count": 84,
     "metadata": {},
     "output_type": "execute_result"
    }
   ],
   "source": [
    "model.most_similar(positive=[\"走る\"])"
   ]
  },
  {
   "cell_type": "code",
   "execution_count": 85,
   "metadata": {},
   "outputs": [
    {
     "name": "stderr",
     "output_type": "stream",
     "text": [
      "/Users/shinozu/.pyenv/versions/anaconda3-5.1.0/envs/morph/lib/python3.6/site-packages/ipykernel_launcher.py:1: DeprecationWarning: Call to deprecated `most_similar` (Method will be removed in 4.0.0, use self.wv.most_similar() instead).\n",
      "  \"\"\"Entry point for launching an IPython kernel.\n"
     ]
    },
    {
     "data": {
      "text/plain": [
       "[('生かす', 0.8189100623130798),\n",
       " ('置ける', 0.8016072511672974),\n",
       " ('呆れる', 0.798100471496582),\n",
       " ('暴虐', 0.7586650252342224),\n",
       " ('除く', 0.7528294324874878),\n",
       " ('政治', 0.7016451358795166),\n",
       " ('笛', 0.5977092981338501),\n",
       " ('邪智', 0.5890899896621704),\n",
       " ('吹く', 0.571452260017395),\n",
       " ('決意', 0.5645503997802734)]"
      ]
     },
     "execution_count": 85,
     "metadata": {},
     "output_type": "execute_result"
    }
   ],
   "source": [
    "model.most_similar(positive=[\"激怒\"])"
   ]
  },
  {
   "cell_type": "code",
   "execution_count": 86,
   "metadata": {},
   "outputs": [
    {
     "name": "stderr",
     "output_type": "stream",
     "text": [
      "/Users/shinozu/.pyenv/versions/anaconda3-5.1.0/envs/morph/lib/python3.6/site-packages/ipykernel_launcher.py:1: DeprecationWarning: Call to deprecated `most_similar` (Method will be removed in 4.0.0, use self.wv.most_similar() instead).\n",
      "  \"\"\"Entry point for launching an IPython kernel.\n"
     ]
    },
    {
     "data": {
      "text/plain": [
       "[('卑劣', 0.45817118883132935),\n",
       " ('憎む', 0.4572139084339142),\n",
       " ('助ける', 0.40608274936676025),\n",
       " ('生かす', 0.3971306085586548),\n",
       " ('邪智', 0.3868003487586975),\n",
       " ('呆れる', 0.38172829151153564),\n",
       " ('置ける', 0.38156312704086304),\n",
       " ('ひとり合点', 0.3723793029785156),\n",
       " ('仕方', 0.3700559437274933),\n",
       " ('憫笑', 0.3649504780769348)]"
      ]
     },
     "execution_count": 86,
     "metadata": {},
     "output_type": "execute_result"
    }
   ],
   "source": [
    "model.most_similar(positive=[\"王\"])"
   ]
  },
  {
   "cell_type": "code",
   "execution_count": null,
   "metadata": {},
   "outputs": [],
   "source": []
  }
 ],
 "metadata": {
  "kernelspec": {
   "display_name": "Python 3",
   "language": "python",
   "name": "python3"
  },
  "language_info": {
   "codemirror_mode": {
    "name": "ipython",
    "version": 3
   },
   "file_extension": ".py",
   "mimetype": "text/x-python",
   "name": "python",
   "nbconvert_exporter": "python",
   "pygments_lexer": "ipython3",
   "version": "3.6.6"
  }
 },
 "nbformat": 4,
 "nbformat_minor": 2
}
